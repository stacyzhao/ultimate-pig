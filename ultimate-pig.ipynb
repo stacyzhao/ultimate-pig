{
 "cells": [
  {
   "cell_type": "code",
   "execution_count": null,
   "metadata": {
    "collapsed": true
   },
   "outputs": [],
   "source": [
    "%matplotlib inline"
   ]
  },
  {
   "cell_type": "code",
   "execution_count": 6,
   "metadata": {
    "collapsed": true
   },
   "outputs": [],
   "source": [
    "import math\n",
    "import matplotlib.pyplot as plt\n",
    "import random\n",
    "import statistics as st\n",
    "import seaborn as sns"
   ]
  },
  {
   "cell_type": "code",
   "execution_count": 2,
   "metadata": {
    "collapsed": true
   },
   "outputs": [],
   "source": [
    "class Player:\n",
    "\n",
    "    def __init__(self, name):\n",
    "        self.name = name\n",
    "        self.total_score = 0\n",
    "        self.turn_score = 0\n",
    "        self.num_of_rolls = 0\n",
    "\n",
    "    def get_roll(self):\n",
    "        self.num_of_rolls += 1\n",
    "        return random.randint(1, 6)\n",
    "\n",
    "    def should_roll(self):\n",
    "        return self.num_of_rolls == 0\n",
    "\n",
    "    def reset(self):\n",
    "        self.total_score = 0\n",
    "\n",
    "    def take_turn(self):\n",
    "        self.num_of_rolls = 0\n",
    "        self.turn_score = 0\n",
    "        while self.should_roll():\n",
    "            roll = self.get_roll()\n",
    "            if roll == 1:\n",
    "                break\n",
    "            else:\n",
    "                self.turn_score += roll\n",
    "        self.total_score += self.turn_score"
   ]
  },
  {
   "cell_type": "code",
   "execution_count": 3,
   "metadata": {
    "collapsed": false
   },
   "outputs": [],
   "source": [
    "class SmartishPlayer(Player):\n",
    "    def should_roll(self):\n",
    "        return self.num_of_rolls < 5"
   ]
  },
  {
   "cell_type": "code",
   "execution_count": 4,
   "metadata": {
    "collapsed": true
   },
   "outputs": [],
   "source": [
    "class SmartPlayer(Player):\n",
    "    def should_roll(self):\n",
    "        return self.turn_score < 20"
   ]
  },
  {
   "cell_type": "code",
   "execution_count": 5,
   "metadata": {
    "collapsed": false
   },
   "outputs": [
    {
     "name": "stdout",
     "output_type": "stream",
     "text": [
      "player's turn score is 6\n",
      "player's total score is 6\n",
      "smartish's turn score is 5\n",
      "smartish's total score is 5\n",
      "smart's turn score is 24\n",
      "smart's total score is 24\n",
      "player's turn score is 2\n",
      "player's total score is 8\n",
      "smartish's turn score is 20\n",
      "smartish's total score is 25\n",
      "smart's turn score is 20\n",
      "smart's total score is 44\n",
      "player's turn score is 3\n",
      "player's total score is 11\n",
      "smartish's turn score is 25\n",
      "smartish's total score is 50\n",
      "smart's turn score is 14\n",
      "smart's total score is 58\n",
      "player's turn score is 5\n",
      "player's total score is 16\n",
      "smartish's turn score is 5\n",
      "smartish's total score is 55\n",
      "smart's turn score is 21\n",
      "smart's total score is 79\n",
      "player's turn score is 3\n",
      "player's total score is 19\n",
      "smartish's turn score is 6\n",
      "smartish's total score is 61\n",
      "smart's turn score is 0\n",
      "smart's total score is 79\n",
      "player's turn score is 4\n",
      "player's total score is 23\n",
      "smartish's turn score is 17\n",
      "smartish's total score is 78\n",
      "smart's turn score is 20\n",
      "smart's total score is 99\n",
      "player's turn score is 0\n",
      "player's total score is 23\n",
      "smartish's turn score is 0\n",
      "smartish's total score is 78\n",
      "smart's turn score is 22\n",
      "smart's total score is 121\n"
     ]
    }
   ],
   "source": [
    "class Game:\n",
    "    def __init__(self, players):\n",
    "        self.players = players\n",
    "\n",
    "    def play(self):\n",
    "        for _ in range(7):\n",
    "            for player in self.players:\n",
    "                player.take_turn()\n",
    "            self.show_score()\n",
    "        self.reset()\n",
    "\n",
    "    def reset(self):\n",
    "        for player in players:\n",
    "            player.reset()\n",
    "\n",
    "    def show_score(self):\n",
    "        for player in self.players:\n",
    "            print(\"{}'s turn score is {}\".format(\n",
    "                player.name,\n",
    "                player.turn_score\n",
    "            ))\n",
    "            print(\"{}'s total score is {}\".format(\n",
    "                player.name,\n",
    "                player.total_score\n",
    "            ))\n",
    "\n",
    "players = [Player(\"player\"), SmartishPlayer(\"smartish\"), SmartPlayer(\"smart\")]\n",
    "game = Game(players)\n",
    "game.play()"
   ]
  },
  {
   "cell_type": "code",
   "execution_count": null,
   "metadata": {
    "collapsed": true
   },
   "outputs": [],
   "source": []
  }
 ],
 "metadata": {
  "kernelspec": {
   "display_name": "Python 3",
   "language": "python",
   "name": "python3"
  },
  "language_info": {
   "codemirror_mode": {
    "name": "ipython",
    "version": 3
   },
   "file_extension": ".py",
   "mimetype": "text/x-python",
   "name": "python",
   "nbconvert_exporter": "python",
   "pygments_lexer": "ipython3",
   "version": "3.5.1"
  }
 },
 "nbformat": 4,
 "nbformat_minor": 0
}
